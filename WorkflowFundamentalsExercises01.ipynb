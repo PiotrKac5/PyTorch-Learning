{
 "cells": [
  {
   "cell_type": "code",
   "execution_count": 1,
   "id": "initial_id",
   "metadata": {
    "collapsed": true,
    "ExecuteTime": {
     "end_time": "2024-07-07T14:35:48.156369068Z",
     "start_time": "2024-07-07T14:35:46.979271959Z"
    }
   },
   "outputs": [],
   "source": [
    "import torch\n",
    "from torch import nn\n",
    "import matplotlib.pyplot as plt"
   ]
  },
  {
   "cell_type": "code",
   "execution_count": 4,
   "outputs": [
    {
     "data": {
      "text/plain": "(80, 80, 20, 20)"
     },
     "execution_count": 4,
     "metadata": {},
     "output_type": "execute_result"
    }
   ],
   "source": [
    "weight = 0.3\n",
    "bias = 0.9\n",
    "\n",
    "X = torch.arange(0, 100, step=1).unsqueeze(dim=1)\n",
    "y = weight*X + bias\n",
    "\n",
    "training_split = int(0.8 * len(X))\n",
    "X_train, y_train = X[:training_split], y[:training_split]\n",
    "X_test, y_test = X[training_split:], y[training_split:]\n",
    "\n",
    "len(X_train), len(y_train), len(X_test), len(y_test)"
   ],
   "metadata": {
    "collapsed": false,
    "ExecuteTime": {
     "end_time": "2024-07-07T14:40:25.982957359Z",
     "start_time": "2024-07-07T14:40:25.939844580Z"
    }
   },
   "id": "7aea62f086ea9eb7"
  },
  {
   "cell_type": "code",
   "execution_count": 9,
   "outputs": [
    {
     "data": {
      "text/plain": "<Figure size 640x480 with 1 Axes>",
      "image/png": "[encoded data removed]"
     },
     "metadata": {},
     "output_type": "display_data"
    }
   ],
   "source": [
    "def plot_predictions(train_data=X_train,\n",
    "                     test_data=X_test,\n",
    "                     train_labels=y_train,\n",
    "                     test_labels=y_test,\n",
    "                     predictions=None):\n",
    "    plt.scatter(train_data, train_labels, s=4, c=\"b\", label=\"Training data\")\n",
    "    plt.scatter(test_data, test_labels, s=4, c=\"g\", label=\"Test data\")\n",
    "    \n",
    "    if predictions is not None:\n",
    "        plt.scatter(test_data, predictions, s=4, c=\"r\", label=\"Predictions\")\n",
    "    \n",
    "    plt.legend(prop={\"size\":14})\n",
    "        \n",
    "plot_predictions()"
   ],
   "metadata": {
    "collapsed": false,
    "ExecuteTime": {
     "end_time": "2024-07-07T14:45:04.204667611Z",
     "start_time": "2024-07-07T14:45:04.128891664Z"
    }
   },
   "id": "854dc268353978b3"
  },
  {
   "cell_type": "code",
   "execution_count": 23,
   "outputs": [],
   "source": [
    "class LinearRegressionModel(nn.Module):\n",
    "    def __init__(self):\n",
    "        super().__init__()\n",
    "        self.weight = nn.Parameter(torch.randn(1, dtype=torch.float), requires_grad=True)\n",
    "        self.bias = nn.Parameter(torch.randn(1, dtype=torch.float), requires_grad=True)\n",
    "        \n",
    "    def forward(self, x: torch.Tensor) -> torch.Tensor:\n",
    "        return self.weight*x + self.bias"
   ],
   "metadata": {
    "collapsed": false,
    "ExecuteTime": {
     "end_time": "2024-07-07T14:51:19.198757191Z",
     "start_time": "2024-07-07T14:51:19.156651036Z"
    }
   },
   "id": "a4e455c6c10477af"
  },
  {
   "cell_type": "code",
   "execution_count": 42,
   "outputs": [
    {
     "data": {
      "text/plain": "OrderedDict([('weight', tensor([0.3367])), ('bias', tensor([0.1288]))])"
     },
     "execution_count": 42,
     "metadata": {},
     "output_type": "execute_result"
    }
   ],
   "source": [
    "torch.manual_seed(42)\n",
    "model_0 = LinearRegressionModel()\n",
    "model_0.state_dict()"
   ],
   "metadata": {
    "collapsed": false,
    "ExecuteTime": {
     "end_time": "2024-07-07T15:02:17.451200123Z",
     "start_time": "2024-07-07T15:02:17.402564837Z"
    }
   },
   "id": "f823c5e0d20b2542"
  },
  {
   "cell_type": "code",
   "execution_count": 43,
   "outputs": [
    {
     "data": {
      "text/plain": "[Parameter containing:\n tensor([0.3367], requires_grad=True),\n Parameter containing:\n tensor([0.1288], requires_grad=True)]"
     },
     "execution_count": 43,
     "metadata": {},
     "output_type": "execute_result"
    }
   ],
   "source": [
    "list(model_0.parameters())"
   ],
   "metadata": {
    "collapsed": false,
    "ExecuteTime": {
     "end_time": "2024-07-07T15:02:17.786465350Z",
     "start_time": "2024-07-07T15:02:17.778849060Z"
    }
   },
   "id": "5103aabdd2729627"
  },
  {
   "cell_type": "code",
   "execution_count": 58,
   "outputs": [],
   "source": [
    "loss_fn = nn.L1Loss()\n",
    "optimizer = torch.optim.SGD(params=model_0.parameters(), lr=0.0001)"
   ],
   "metadata": {
    "collapsed": false,
    "ExecuteTime": {
     "end_time": "2024-07-07T15:06:12.549723236Z",
     "start_time": "2024-07-07T15:06:12.538326Z"
    }
   },
   "id": "9374fca24394329c"
  },
  {
   "cell_type": "code",
   "execution_count": 59,
   "outputs": [
    {
     "name": "stdout",
     "output_type": "stream",
     "text": [
      "Training loss: 7.732377529144287 | Test loss: 16.795686721801758\n",
      "Training loss: 4.609877109527588 | Test loss: 9.723188400268555\n",
      "Training loss: 1.48737633228302 | Test loss: 2.6506855487823486\n",
      "Training loss: 0.12020939588546753 | Test loss: 0.17188043892383575\n",
      "Training loss: 0.11986954510211945 | Test loss: 0.16936340928077698\n",
      "Training loss: 0.11952990293502808 | Test loss: 0.16684599220752716\n",
      "Training loss: 0.11917480081319809 | Test loss: 0.16432876884937286\n",
      "Training loss: 0.11880026012659073 | Test loss: 0.1615825593471527\n",
      "Training loss: 0.11845411360263824 | Test loss: 0.17159557342529297\n",
      "Training loss: 0.11811419576406479 | Test loss: 0.169078066945076\n",
      "Training loss: 0.11783522367477417 | Test loss: 0.16746234893798828\n",
      "Training loss: 0.11742717027664185 | Test loss: 0.1656196564435959\n",
      "Training loss: 0.11709140241146088 | Test loss: 0.17585936188697815\n",
      "Training loss: 0.1167435497045517 | Test loss: 0.16193275153636932\n",
      "Training loss: 0.11637961864471436 | Test loss: 0.16009005904197693\n"
     ]
    }
   ],
   "source": [
    "epochs = 300\n",
    "\n",
    "for epoch in range(epochs):\n",
    "    model_0.train()\n",
    "    \n",
    "    y_pred = model_0(X_train)\n",
    "    loss = loss_fn(y_pred, y_train)\n",
    "    \n",
    "    optimizer.zero_grad()\n",
    "    loss.backward()\n",
    "    optimizer.step()\n",
    "    if epoch % 20 == 0:\n",
    "        model_0.eval()\n",
    "        with torch.inference_mode():\n",
    "            y_preds = model_0(X_test)\n",
    "            test_loss = loss_fn(y_preds, y_test)\n",
    "            \n",
    "        print(f\"Training loss: {loss} | Test loss: {test_loss}\")"
   ],
   "metadata": {
    "collapsed": false,
    "ExecuteTime": {
     "end_time": "2024-07-07T15:06:12.935482954Z",
     "start_time": "2024-07-07T15:06:12.866364060Z"
    }
   },
   "id": "fe7a77a2b87e0c91"
  },
  {
   "cell_type": "code",
   "execution_count": 60,
   "outputs": [
    {
     "data": {
      "text/plain": "<Figure size 640x480 with 1 Axes>",
      "image/png": "[encoded data removed]"
     },
     "metadata": {},
     "output_type": "display_data"
    }
   ],
   "source": [
    "model_0.eval()\n",
    "with torch.inference_mode():\n",
    "    y_preds = model_0(X_test)\n",
    "plot_predictions(predictions=y_preds)"
   ],
   "metadata": {
    "collapsed": false,
    "ExecuteTime": {
     "end_time": "2024-07-07T15:06:13.697233653Z",
     "start_time": "2024-07-07T15:06:13.622901587Z"
    }
   },
   "id": "40fb3e36e4d5af3"
  }
 ],
 "metadata": {
  "kernelspec": {
   "display_name": "Python 3",
   "language": "python",
   "name": "python3"
  },
  "language_info": {
   "codemirror_mode": {
    "name": "ipython",
    "version": 2
   },
   "file_extension": ".py",
   "mimetype": "text/x-python",
   "name": "python",
   "nbconvert_exporter": "python",
   "pygments_lexer": "ipython2",
   "version": "2.7.6"
  }
 },
 "nbformat": 4,
 "nbformat_minor": 5
}
