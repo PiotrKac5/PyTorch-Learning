{
 "cells": [
  {
   "cell_type": "code",
   "execution_count": null,
   "outputs": [],
   "source": [
    "from sklearn.datasets import make_circles\n",
    "\n",
    "n_samples = 1000\n",
    "\n",
    "X, y = make_circles(n_samples,\n",
    "                    noise=0.03,\n",
    "                    random_state=42)"
   ],
   "metadata": {
    "collapsed": false
   },
   "id": "af45254c96f137bc"
  },
  {
   "cell_type": "code",
   "execution_count": null,
   "outputs": [],
   "source": [
    "print(f\"First 5 X features:\\n{X[:5]}\")\n",
    "print(f\"\\nFirst 5 y labels:\\n{y[:5]}\")"
   ],
   "metadata": {
    "collapsed": false
   },
   "id": "16cdfe387d3d19d2"
  },
  {
   "cell_type": "code",
   "execution_count": null,
   "outputs": [],
   "source": [
    "import pandas as pd\n",
    "\n",
    "circles = pd.DataFrame({\"X1\": X[:, 0],\n",
    "                        \"X2\": X[:, 1],\n",
    "                        \"label\": y})\n",
    "circles.head()"
   ],
   "metadata": {
    "collapsed": false
   },
   "id": "210d37c9452217f3"
  },
  {
   "cell_type": "code",
   "execution_count": null,
   "outputs": [],
   "source": [
    "circles.label.value_counts()"
   ],
   "metadata": {
    "collapsed": false
   },
   "id": "94c1424d8e06068b"
  },
  {
   "cell_type": "code",
   "execution_count": null,
   "outputs": [],
   "source": [
    "import matplotlib.pyplot as plt\n",
    "plt.scatter(x=X[:, 0],\n",
    "            y=X[:, 1],\n",
    "            c=y,\n",
    "            cmap=plt.cm.RdYlBu)"
   ],
   "metadata": {
    "collapsed": false
   },
   "id": "7cbb5b240dd9d3e7"
  },
  {
   "cell_type": "code",
   "execution_count": null,
   "outputs": [],
   "source": [
    "X.shape, y.shape"
   ],
   "metadata": {
    "collapsed": false
   },
   "id": "1930a5fc67ce3b17"
  },
  {
   "cell_type": "code",
   "execution_count": null,
   "outputs": [],
   "source": [
    "X_sample = X[0]\n",
    "y_sample = y[0]\n",
    "print(f\"Values for one sample of X: {X_sample} and the same for y: {y_sample}\")\n",
    "print(f\"Shapes for one sample of X: {X_sample.shape} and the same for y: {y_sample.shape}\")"
   ],
   "metadata": {
    "collapsed": false
   },
   "id": "abba9686e472366f"
  },
  {
   "cell_type": "code",
   "execution_count": null,
   "outputs": [],
   "source": [
    "import torch\n",
    "X = torch.from_numpy(X).type(torch.float)\n",
    "y = torch.from_numpy(y).type(torch.float)\n",
    "\n",
    "X[:5], y[:5]"
   ],
   "metadata": {
    "collapsed": false
   },
   "id": "c442eb6cfba8498a"
  },
  {
   "cell_type": "code",
   "execution_count": null,
   "outputs": [],
   "source": [
    "from sklearn.model_selection import train_test_split\n",
    "\n",
    "X_train, X_test, y_train, y_test = train_test_split(X,\n",
    "                                                    y,\n",
    "                                                    test_size=0.2,\n",
    "                                                    random_state=42)\n",
    "len(X_train), len(X_test), len(y_train), len(y_test)"
   ],
   "metadata": {
    "collapsed": false
   },
   "id": "651b511a7f3c6f36"
  },
  {
   "cell_type": "code",
   "execution_count": null,
   "outputs": [],
   "source": [
    "from torch import nn\n",
    "\n",
    "device = \"cuda\" if torch.cuda.is_available() else \"cpu\"\n",
    "device"
   ],
   "metadata": {
    "collapsed": false
   },
   "id": "ecc7cf3ece372170"
  },
  {
   "cell_type": "code",
   "execution_count": null,
   "outputs": [],
   "source": [
    "class CircleModelV0(nn.Module):\n",
    "    def __init__(self):\n",
    "        super().__init__()\n",
    "        self.layer_1 = nn.Linear(in_features=2, out_features=5)\n",
    "        self.layer_2 = nn.Linear(in_features=5, out_features=1)\n",
    "        \n",
    "    def forward(self, x):\n",
    "        return self.layer_2(self.layer_1(x))\n",
    "    \n",
    "model_0 = CircleModelV0().to(device)\n",
    "model_0"
   ],
   "metadata": {
    "collapsed": false
   },
   "id": "a4bf3eae0b8752e5"
  },
  {
   "cell_type": "code",
   "execution_count": null,
   "outputs": [],
   "source": [
    "# Make predictions with the model\n",
    "untrained_preds = model_0(X_test.to(device))\n",
    "print(f\"Length of predictions: {len(untrained_preds)}, Shape: {untrained_preds.shape}\")\n",
    "print(f\"Length of test samples: {len(y_test)}, Shape: {y_test.shape}\")\n",
    "print(f\"\\nFirst 10 predictions:\\n{untrained_preds[:10]}\")\n",
    "print(f\"\\nFirst 10 test labels:\\n{y_test[:10]}\")"
   ],
   "metadata": {
    "collapsed": false
   },
   "id": "c442982c8b16a929"
  },
  {
   "cell_type": "code",
   "execution_count": null,
   "outputs": [],
   "source": [
    "loss_fn = nn.BCEWithLogitsLoss()\n",
    "\n",
    "optimizer = torch.optim.SGD(params=model_0.parameters(), lr=0.1)"
   ],
   "metadata": {
    "collapsed": false
   },
   "id": "4f1d9237b7c02e81"
  },
  {
   "cell_type": "code",
   "execution_count": null,
   "outputs": [],
   "source": [
    "def accuracy_fn(y_true, y_pred):\n",
    "    correct = torch.eq(y_true, y_pred).sum().item()\n",
    "    acc = (correct / len(y_pred)) * 100\n",
    "    return acc"
   ],
   "metadata": {
    "collapsed": false
   },
   "id": "1fb5b0952ef26de1"
  },
  {
   "cell_type": "code",
   "execution_count": null,
   "outputs": [],
   "source": [
    "y_logits = model_0(X_test.to(device))[:5]\n",
    "y_logits"
   ],
   "metadata": {
    "collapsed": false
   },
   "id": "dc80ea86760202c6"
  },
  {
   "cell_type": "code",
   "execution_count": null,
   "outputs": [],
   "source": [
    "y_pred_probs = torch.sigmoid(y_logits)\n",
    "y_pred_probs"
   ],
   "metadata": {
    "collapsed": false
   },
   "id": "46daaa30bb2c164d"
  },
  {
   "cell_type": "code",
   "execution_count": null,
   "outputs": [],
   "source": [
    "y_preds = torch.round(y_pred_probs)\n",
    "\n",
    "y_pred_labels = torch.round(torch.sigmoid(model_0(X_test.to(device))[:5]))\n",
    "\n",
    "print(torch.eq(y_preds.squeeze(), y_pred_labels.squeeze()))\n",
    "\n",
    "y_preds.squeeze()"
   ],
   "metadata": {
    "collapsed": false
   },
   "id": "4eaeaf7e3e41c379"
  },
  {
   "cell_type": "code",
   "execution_count": null,
   "outputs": [],
   "source": [
    "torch.manual_seed(42)\n",
    "\n",
    "epochs = 100\n",
    "\n",
    "X_train, y_train = X_train.to(device), y_train.to(device)\n",
    "X_test, y_test = X_test.to(device), y_test.to(device)\n",
    "\n",
    "for epoch in range(epochs):\n",
    "    model_0.train()\n",
    "    y_logits = model_0(X_train).squeeze()\n",
    "    y_preds = torch.round(torch.sigmoid(y_logits))\n",
    "    loss = loss_fn(y_logits, y_train)\n",
    "    acc = accuracy_fn(y_train, y_preds)\n",
    "    optimizer.zero_grad()\n",
    "    loss.backward()\n",
    "    optimizer.step()\n",
    "    \n",
    "    if epoch % 10 == 0:\n",
    "        with torch.inference_mode():\n",
    "            model_0.eval()\n",
    "            test_logits = model_0(X_test).squeeze()\n",
    "            test_pred = torch.round(torch.sigmoid(test_logits))\n",
    "            test_loss = loss_fn(test_logits, y_test)\n",
    "            test_acc = accuracy_fn(y_test, test_pred)\n",
    "        print(f\"Epoch: {epoch} | Training loss: {loss} | Training accuracy: {acc} | Test loss: {test_loss} | Test accuracy: {test_acc}\")"
   ],
   "metadata": {
    "collapsed": false
   },
   "id": "2ba8506075e70e25"
  },
  {
   "cell_type": "code",
   "execution_count": null,
   "outputs": [],
   "source": [
    "import requests\n",
    "from pathlib import Path \n",
    "\n",
    "# Download helper functions from Learn PyTorch repo (if not already downloaded)\n",
    "if Path(\"helper_functions.py\").is_file():\n",
    "  print(\"helper_functions.py already exists, skipping download\")\n",
    "else:\n",
    "  print(\"Downloading helper_functions.py\")\n",
    "  request = requests.get(\"https://raw.githubusercontent.com/mrdbourke/pytorch-deep-learning/main/helper_functions.py\")\n",
    "  with open(\"helper_functions.py\", \"wb\") as f:\n",
    "    f.write(request.content)\n",
    "\n",
    "from helper_functions import plot_predictions, plot_decision_boundary"
   ],
   "metadata": {
    "collapsed": false
   },
   "id": "4c1ac7660303a6c8"
  },
  {
   "cell_type": "code",
   "execution_count": null,
   "outputs": [],
   "source": [
    "plt.figure(figsize=(12, 6))\n",
    "plt.subplot(1, 2, 1)\n",
    "plt.title(\"Train\")\n",
    "plot_decision_boundary(model_0, X_train, y_train)\n",
    "plt.subplot(1, 2, 2)\n",
    "plt.title(\"Test\")\n",
    "plot_decision_boundary(model_0, X_test, y_test)"
   ],
   "metadata": {
    "collapsed": false
   },
   "id": "4637e98c178bbe1c"
  },
  {
   "cell_type": "code",
   "execution_count": null,
   "outputs": [],
   "source": [
    "class CircleModelV1(nn.Module):\n",
    "    def __init__(self):\n",
    "        super().__init__()\n",
    "        self.layer_1 = nn.Linear(in_features=2, out_features=10)\n",
    "        self.layer_2 = nn.Linear(in_features=10, out_features=10)\n",
    "        self.layer_3 = nn.Linear(in_features=10, out_features=1)\n",
    "        \n",
    "    def forward(self, x):\n",
    "        return self.layer_3(self.layer_2(self.layer_1(x)))\n",
    "    \n",
    "model_1 = CircleModelV1().to(device)\n",
    "model_1"
   ],
   "metadata": {
    "collapsed": false
   },
   "id": "50ae0a00a0e348ef"
  },
  {
   "cell_type": "code",
   "execution_count": null,
   "outputs": [],
   "source": [
    "loss_fn = nn.BCEWithLogitsLoss()\n",
    "optimizer = torch.optim.SGD(params=model_1.parameters(), lr=0.1)"
   ],
   "metadata": {
    "collapsed": false
   },
   "id": "69b3775a9cf09dfe"
  },
  {
   "cell_type": "code",
   "execution_count": null,
   "outputs": [],
   "source": [
    "torch.manual_seed(42)\n",
    "\n",
    "epochs = 1000\n",
    "\n",
    "X_train, y_train = X_train.to(device), y_train.to(device)\n",
    "X_test, y_test = X_test.to(device), y_test.to(device)\n",
    "\n",
    "for epoch in range(epochs):\n",
    "    model_1.train()\n",
    "    y_logits = model_1(X_train).squeeze()\n",
    "    y_preds = torch.round(torch.sigmoid(y_logits))\n",
    "    loss = loss_fn(y_logits, y_train)\n",
    "    acc = accuracy_fn(y_train, y_preds)\n",
    "    optimizer.zero_grad()\n",
    "    loss.backward()\n",
    "    optimizer.step()\n",
    "    if epoch%100 == 0:\n",
    "        model_1.eval()\n",
    "        with torch.inference_mode():\n",
    "            test_logits = model_1(X_test).squeeze()\n",
    "            test_preds = torch.round(torch.sigmoid(test_logits))\n",
    "            test_loss = loss_fn(test_logits, y_test)\n",
    "            test_acc = accuracy_fn(y_test, test_preds)\n",
    "            \n",
    "        print(f\"Epoch: {epoch} | Loss: {loss:.5f}, Accuracy: {acc:.2f}% | Test loss: {test_loss:.5f}, Test acc: {test_acc:.2f}%\")\n",
    "    "
   ],
   "metadata": {
    "collapsed": false
   },
   "id": "b980a668a4a7a148"
  },
  {
   "cell_type": "code",
   "execution_count": null,
   "outputs": [],
   "source": [
    "# Plot decision boundaries for training and test sets\n",
    "plt.figure(figsize=(12, 6))\n",
    "plt.subplot(1, 2, 1)\n",
    "plt.title(\"Train\")\n",
    "plot_decision_boundary(model_1, X_train, y_train)\n",
    "plt.subplot(1, 2, 2)\n",
    "plt.title(\"Test\")\n",
    "plot_decision_boundary(model_1, X_test, y_test)"
   ],
   "metadata": {
    "collapsed": false
   },
   "id": "790c874920a763cf"
  },
  {
   "cell_type": "code",
   "execution_count": null,
   "outputs": [],
   "source": [
    "weight = 0.7\n",
    "bias = 0.3\n",
    "start = 0\n",
    "end = 1\n",
    "step = 0.01\n",
    "\n",
    "X_regression = torch.arange(start, end, step).unsqueeze(dim=1)\n",
    "y_regression = weight * X_regression + bias\n",
    "\n",
    "print(len(X_regression))\n",
    "X_regression[:5], y_regression[:5]"
   ],
   "metadata": {
    "collapsed": false
   },
   "id": "877c075f6ce26f63"
  },
  {
   "cell_type": "code",
   "execution_count": null,
   "outputs": [],
   "source": [
    "train_split = int(0.8 * len(X_regression))\n",
    "X_train_regression, y_train_regression = X_regression[:train_split], y_regression[:train_split]\n",
    "X_test_regression, y_test_regression = X_regression[train_split:], y_regression[train_split:]\n",
    "\n",
    "print(len(X_train_regression), \n",
    "    len(y_train_regression), \n",
    "    len(X_test_regression), \n",
    "    len(y_test_regression))"
   ],
   "metadata": {
    "collapsed": false
   },
   "id": "868392e9d40d465a"
  },
  {
   "cell_type": "code",
   "execution_count": null,
   "outputs": [],
   "source": [
    "plot_predictions(train_data=X_train_regression,\n",
    "    train_labels=y_train_regression,\n",
    "    test_data=X_test_regression,\n",
    "    test_labels=y_test_regression\n",
    ");"
   ],
   "metadata": {
    "collapsed": false
   },
   "id": "bc72d0f0f7c3d8cf"
  },
  {
   "cell_type": "code",
   "execution_count": null,
   "outputs": [],
   "source": [
    "model_2 = nn.Sequential(\n",
    "    nn.Linear(in_features=1, out_features=10),\n",
    "    nn.Linear(in_features=10, out_features=10),\n",
    "    nn.Linear(in_features=10, out_features=1)\n",
    ").to(device)\n",
    "\n",
    "model_2"
   ],
   "metadata": {
    "collapsed": false
   },
   "id": "2c75401431cbf435"
  },
  {
   "cell_type": "code",
   "execution_count": null,
   "outputs": [],
   "source": [
    "loss_fn = nn.L1Loss()\n",
    "optimizer = torch.optim.SGD(model_2.parameters(), lr=0.1)"
   ],
   "metadata": {
    "collapsed": false
   },
   "id": "6bab4a8a388451d0"
  },
  {
   "cell_type": "code",
   "execution_count": null,
   "outputs": [],
   "source": [
    "torch.manual_seed(42)\n",
    "\n",
    "epochs = 1000\n",
    "\n",
    "X_train_regression, y_train_regression = X_train_regression.to(device), y_train_regression.to(device)\n",
    "X_test_regression, y_test_regression = X_test_regression.to(device), y_test_regression.to(device)\n",
    "\n",
    "for epoch in range(epochs):\n",
    "    model_2.train()\n",
    "    y_pred = model_2(X_train_regression)\n",
    "    loss = loss_fn(y_pred, y_train_regression)\n",
    "    optimizer.zero_grad()\n",
    "    loss.backward()\n",
    "    optimizer.step()\n",
    "    \n",
    "    if epoch % 100 == 0:\n",
    "        model_2.eval()\n",
    "        with torch.inference_mode():\n",
    "            test_pred = model_2(X_test_regression)\n",
    "            test_loss = loss_fn(test_pred, y_test_regression)\n",
    "        print(f\"Epoch: {epoch} | Train loss: {loss:.5f}, Test loss: {test_loss:.5f}\")"
   ],
   "metadata": {
    "collapsed": false
   },
   "id": "965667bea3c164f8"
  },
  {
   "cell_type": "code",
   "execution_count": null,
   "outputs": [],
   "source": [
    "model_2.eval()\n",
    "\n",
    "with torch.inference_mode():\n",
    "    y_preds = model_2(X_test_regression)\n",
    "    \n",
    "plot_predictions(train_data=X_train_regression.cpu(),\n",
    "                 train_labels=y_train_regression.cpu(),\n",
    "                 test_data=X_test_regression.cpu(),\n",
    "                 test_labels=y_test_regression.cpu(),\n",
    "                 predictions=y_preds.cpu());"
   ],
   "metadata": {
    "collapsed": false
   },
   "id": "48673a78ee749041"
  },
  {
   "cell_type": "code",
   "execution_count": null,
   "outputs": [],
   "source": [
    "n_samples = 1000\n",
    "\n",
    "X, y = make_circles(n_samples=1000,\n",
    "    noise=0.03,\n",
    "    random_state=42,\n",
    ")\n",
    "\n",
    "plt.scatter(X[:, 0], X[:, 1], c=y, cmap=plt.cm.RdBu);"
   ],
   "metadata": {
    "collapsed": false
   },
   "id": "56e9e471d3ce464d"
  },
  {
   "cell_type": "code",
   "execution_count": null,
   "outputs": [],
   "source": [
    "X = torch.from_numpy(X).type(torch.float)\n",
    "y = torch.from_numpy(y).type(torch.float)\n",
    "\n",
    "X_train, X_test, y_train, y_test = train_test_split(X, \n",
    "                                                    y, \n",
    "                                                    test_size=0.2,\n",
    "                                                    random_state=42)\n",
    "X_train[:5], y_train[:5]"
   ],
   "metadata": {
    "collapsed": false
   },
   "id": "cc2e19aa038cbda6"
  },
  {
   "cell_type": "code",
   "execution_count": null,
   "outputs": [],
   "source": [
    "class CircleModelV2(nn.Module):\n",
    "    def __init__(self):\n",
    "        super().__init__()\n",
    "        self.layer_1 = nn.Linear(in_features=2, out_features=15)\n",
    "        self.layer_2 = nn.Linear(in_features=15, out_features=15)\n",
    "        self.layer_3 = nn.Linear(in_features=15, out_features=1)\n",
    "        self.relu = nn.ReLU()\n",
    "        \n",
    "    def forward(self, x):\n",
    "        return self.layer_3(self.relu(self.layer_2(self.relu(self.layer_1(x)))))\n",
    "    \n",
    "model_3 = CircleModelV2().to(device)\n",
    "model_3"
   ],
   "metadata": {
    "collapsed": false
   },
   "id": "38f3c22e6961e172"
  },
  {
   "cell_type": "code",
   "execution_count": null,
   "outputs": [],
   "source": [
    "loss_fn = nn.BCEWithLogitsLoss()\n",
    "optimizer = torch.optim.SGD(model_3.parameters(), lr=0.1)"
   ],
   "metadata": {
    "collapsed": false
   },
   "id": "228cf0dc32054aee"
  },
  {
   "cell_type": "code",
   "execution_count": null,
   "outputs": [],
   "source": [
    "torch.manual_seed(42)\n",
    "epochs = 1000\n",
    "\n",
    "X_train, y_train = X_train.to(device), y_train.to(device)\n",
    "X_test, y_test = X_test.to(device), y_test.to(device)\n",
    "\n",
    "for epoch in range(epochs):\n",
    "    model_3.train()\n",
    "    \n",
    "    y_logits = model_3(X_train).squeeze()\n",
    "    y_preds = torch.round(torch.sigmoid(y_logits))\n",
    "    loss = loss_fn(y_logits, y_train)\n",
    "    acc = accuracy_fn(y_train, y_preds)\n",
    "    optimizer.zero_grad()\n",
    "    loss.backward()\n",
    "    optimizer.step()\n",
    "    \n",
    "    if epoch % 100 == 0:\n",
    "        model_3.eval()\n",
    "        with torch.inference_mode():\n",
    "            test_logits = model_3(X_test).squeeze()\n",
    "            test_preds = torch.round(torch.sigmoid(test_logits))\n",
    "            test_loss = loss_fn(test_logits, y_test)\n",
    "            test_acc = accuracy_fn(y_test, test_preds)\n",
    "        print(f\"Epoch: {epoch} | Loss: {loss:.5f}, Accuracy: {acc:.2f}% | Test Loss: {test_loss:.5f}, Test Accuracy: {test_acc:.2f}%\")"
   ],
   "metadata": {
    "collapsed": false
   },
   "id": "bbdda852d61d35f"
  },
  {
   "cell_type": "code",
   "execution_count": null,
   "outputs": [],
   "source": [
    "model_3.eval()\n",
    "with torch.inference_mode():\n",
    "    y_preds = torch.round(torch.sigmoid(model_3(X_test))).squeeze()\n",
    "y_preds[:10], y[:10]"
   ],
   "metadata": {
    "collapsed": false
   },
   "id": "f998e7ef17e5dc13"
  },
  {
   "cell_type": "code",
   "execution_count": null,
   "outputs": [],
   "source": [
    "plt.figure(figsize=(12, 6))\n",
    "plt.subplot(1, 2, 1)\n",
    "plt.title(\"Train\")\n",
    "plot_decision_boundary(model_1, X_train, y_train)\n",
    "plt.subplot(1, 2, 2)\n",
    "plt.title(\"Test\")\n",
    "plot_decision_boundary(model_3, X_test, y_test)"
   ],
   "metadata": {
    "collapsed": false
   },
   "id": "92041f01e8fc86b3"
  },
  {
   "cell_type": "code",
   "execution_count": null,
   "outputs": [],
   "source": [
    "A = torch.arange(-10, 10, 1, dtype=torch.float32)\n",
    "A"
   ],
   "metadata": {
    "collapsed": false
   },
   "id": "f1c4d6ca04587602"
  },
  {
   "cell_type": "code",
   "execution_count": null,
   "outputs": [],
   "source": [
    "plt.plot(A)"
   ],
   "metadata": {
    "collapsed": false
   },
   "id": "b83dc67abf07547f"
  },
  {
   "cell_type": "code",
   "execution_count": null,
   "outputs": [],
   "source": [
    "def relu(x):\n",
    "    return torch.maximum(torch.tensor(0), x)\n",
    "\n",
    "relu(A)"
   ],
   "metadata": {
    "collapsed": false
   },
   "id": "3af13aabd33a837e"
  },
  {
   "cell_type": "code",
   "execution_count": null,
   "outputs": [],
   "source": [
    "plt.plot(relu(A))"
   ],
   "metadata": {
    "collapsed": false
   },
   "id": "a0209fcdc63c83d9"
  },
  {
   "cell_type": "code",
   "execution_count": null,
   "outputs": [],
   "source": [
    "def sigmoid(x):\n",
    "    return 1/(1 + torch.exp(-x))\n",
    "\n",
    "sigmoid(A)"
   ],
   "metadata": {
    "collapsed": false
   },
   "id": "5c002a71f6f0c4e4"
  },
  {
   "cell_type": "code",
   "execution_count": null,
   "outputs": [],
   "source": [
    "plt.plot(sigmoid(A))"
   ],
   "metadata": {
    "collapsed": false
   },
   "id": "1d145991d43e3203"
  }
 ],
 "metadata": {
  "kernelspec": {
   "display_name": "Python 3",
   "language": "python",
   "name": "python3"
  },
  "language_info": {
   "codemirror_mode": {
    "name": "ipython",
    "version": 2
   },
   "file_extension": ".py",
   "mimetype": "text/x-python",
   "name": "python",
   "nbconvert_exporter": "python",
   "pygments_lexer": "ipython2",
   "version": "2.7.6"
  }
 },
 "nbformat": 4,
 "nbformat_minor": 5
}
