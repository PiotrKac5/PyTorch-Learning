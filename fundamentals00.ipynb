{
 "cells": [
  {
   "cell_type": "code",
   "execution_count": 1,
   "id": "initial_id",
   "metadata": {
    "collapsed": true,
    "ExecuteTime": {
     "end_time": "2024-07-06T17:09:17.853117980Z",
     "start_time": "2024-07-06T17:09:16.742953325Z"
    }
   },
   "outputs": [
    {
     "data": {
      "text/plain": "'2.3.1+cu118'"
     },
     "execution_count": 1,
     "metadata": {},
     "output_type": "execute_result"
    }
   ],
   "source": [
    "import torch\n",
    "torch.__version__"
   ]
  },
  {
   "cell_type": "code",
   "execution_count": 2,
   "outputs": [
    {
     "data": {
      "text/plain": "tensor(7)"
     },
     "execution_count": 2,
     "metadata": {},
     "output_type": "execute_result"
    }
   ],
   "source": [
    "scalar = torch.tensor(7)\n",
    "scalar"
   ],
   "metadata": {
    "collapsed": false,
    "ExecuteTime": {
     "end_time": "2024-07-06T17:09:17.877141642Z",
     "start_time": "2024-07-06T17:09:17.798441738Z"
    }
   },
   "id": "c03ec76f445214cd"
  },
  {
   "cell_type": "code",
   "execution_count": 3,
   "outputs": [
    {
     "data": {
      "text/plain": "0"
     },
     "execution_count": 3,
     "metadata": {},
     "output_type": "execute_result"
    }
   ],
   "source": [
    "scalar.ndim"
   ],
   "metadata": {
    "collapsed": false,
    "ExecuteTime": {
     "end_time": "2024-07-06T17:09:17.877875334Z",
     "start_time": "2024-07-06T17:09:17.799057773Z"
    }
   },
   "id": "6b5f45ccefc743e"
  },
  {
   "cell_type": "code",
   "execution_count": 4,
   "outputs": [
    {
     "data": {
      "text/plain": "7"
     },
     "execution_count": 4,
     "metadata": {},
     "output_type": "execute_result"
    }
   ],
   "source": [
    "scalar.item()"
   ],
   "metadata": {
    "collapsed": false,
    "ExecuteTime": {
     "end_time": "2024-07-06T17:09:17.878321252Z",
     "start_time": "2024-07-06T17:09:17.799426745Z"
    }
   },
   "id": "df8a9f83e38ea16f"
  },
  {
   "cell_type": "code",
   "execution_count": 5,
   "outputs": [
    {
     "data": {
      "text/plain": "tensor([7, 7])"
     },
     "execution_count": 5,
     "metadata": {},
     "output_type": "execute_result"
    }
   ],
   "source": [
    "vector = torch.tensor([7, 7])\n",
    "vector"
   ],
   "metadata": {
    "collapsed": false,
    "ExecuteTime": {
     "end_time": "2024-07-06T17:09:17.878747163Z",
     "start_time": "2024-07-06T17:09:17.799883261Z"
    }
   },
   "id": "f332bbd4ec3c51cd"
  },
  {
   "cell_type": "code",
   "execution_count": 6,
   "outputs": [
    {
     "data": {
      "text/plain": "1"
     },
     "execution_count": 6,
     "metadata": {},
     "output_type": "execute_result"
    }
   ],
   "source": [
    "vector.ndim"
   ],
   "metadata": {
    "collapsed": false,
    "ExecuteTime": {
     "end_time": "2024-07-06T17:09:17.879220629Z",
     "start_time": "2024-07-06T17:09:17.800299406Z"
    }
   },
   "id": "67b9d2e01fdcdb51"
  },
  {
   "cell_type": "code",
   "execution_count": 7,
   "outputs": [
    {
     "data": {
      "text/plain": "torch.Size([2])"
     },
     "execution_count": 7,
     "metadata": {},
     "output_type": "execute_result"
    }
   ],
   "source": [
    "vector.shape"
   ],
   "metadata": {
    "collapsed": false,
    "ExecuteTime": {
     "end_time": "2024-07-06T17:09:17.879608036Z",
     "start_time": "2024-07-06T17:09:17.801910867Z"
    }
   },
   "id": "df8eb3b3fe562c44"
  },
  {
   "cell_type": "code",
   "execution_count": 8,
   "outputs": [
    {
     "data": {
      "text/plain": "tensor([[ 7,  8],\n        [ 9, 10]])"
     },
     "execution_count": 8,
     "metadata": {},
     "output_type": "execute_result"
    }
   ],
   "source": [
    "MATRIX = torch.tensor([[7, 8],\n",
    "                       [9, 10]])\n",
    "MATRIX"
   ],
   "metadata": {
    "collapsed": false,
    "ExecuteTime": {
     "end_time": "2024-07-06T17:09:17.880029350Z",
     "start_time": "2024-07-06T17:09:17.802585435Z"
    }
   },
   "id": "b69bd063e256469e"
  },
  {
   "cell_type": "code",
   "execution_count": 9,
   "outputs": [
    {
     "data": {
      "text/plain": "2"
     },
     "execution_count": 9,
     "metadata": {},
     "output_type": "execute_result"
    }
   ],
   "source": [
    "MATRIX.ndim"
   ],
   "metadata": {
    "collapsed": false,
    "ExecuteTime": {
     "end_time": "2024-07-06T17:09:17.880390883Z",
     "start_time": "2024-07-06T17:09:17.803080790Z"
    }
   },
   "id": "605bb3e587eef85a"
  },
  {
   "cell_type": "code",
   "execution_count": 10,
   "outputs": [
    {
     "data": {
      "text/plain": "torch.Size([2, 2])"
     },
     "execution_count": 10,
     "metadata": {},
     "output_type": "execute_result"
    }
   ],
   "source": [
    "MATRIX.shape"
   ],
   "metadata": {
    "collapsed": false,
    "ExecuteTime": {
     "end_time": "2024-07-06T17:09:17.880737225Z",
     "start_time": "2024-07-06T17:09:17.803462821Z"
    }
   },
   "id": "827d47cfe1a753df"
  },
  {
   "cell_type": "code",
   "execution_count": 11,
   "outputs": [
    {
     "data": {
      "text/plain": "tensor([[[1, 2, 3],\n         [3, 6, 9],\n         [2, 4, 5]]])"
     },
     "execution_count": 11,
     "metadata": {},
     "output_type": "execute_result"
    }
   ],
   "source": [
    "TENSOR = torch.tensor([[[1, 2, 3],\n",
    "                        [3, 6, 9],\n",
    "                        [2, 4, 5]]])\n",
    "TENSOR"
   ],
   "metadata": {
    "collapsed": false,
    "ExecuteTime": {
     "end_time": "2024-07-06T17:09:17.881258455Z",
     "start_time": "2024-07-06T17:09:17.803969791Z"
    }
   },
   "id": "44decd47c17d94cb"
  },
  {
   "cell_type": "code",
   "execution_count": 12,
   "outputs": [
    {
     "data": {
      "text/plain": "3"
     },
     "execution_count": 12,
     "metadata": {},
     "output_type": "execute_result"
    }
   ],
   "source": [
    "TENSOR.ndim"
   ],
   "metadata": {
    "collapsed": false,
    "ExecuteTime": {
     "end_time": "2024-07-06T17:09:17.881742518Z",
     "start_time": "2024-07-06T17:09:17.806988919Z"
    }
   },
   "id": "a7f8659519a09b06"
  },
  {
   "cell_type": "code",
   "execution_count": 13,
   "outputs": [
    {
     "data": {
      "text/plain": "torch.Size([1, 3, 3])"
     },
     "execution_count": 13,
     "metadata": {},
     "output_type": "execute_result"
    }
   ],
   "source": [
    "TENSOR.shape"
   ],
   "metadata": {
    "collapsed": false,
    "ExecuteTime": {
     "end_time": "2024-07-06T17:09:17.895493935Z",
     "start_time": "2024-07-06T17:09:17.811332958Z"
    }
   },
   "id": "cd7ec293d54a0c81"
  },
  {
   "cell_type": "code",
   "execution_count": 14,
   "outputs": [
    {
     "data": {
      "text/plain": "(tensor([[0.4261, 0.6274, 0.3767, 0.5701],\n         [0.4016, 0.6746, 0.2035, 0.4965],\n         [0.0504, 0.2460, 0.2152, 0.8472]]),\n torch.float32)"
     },
     "execution_count": 14,
     "metadata": {},
     "output_type": "execute_result"
    }
   ],
   "source": [
    "random_tensor = torch.rand(3, 4)\n",
    "random_tensor, random_tensor.dtype"
   ],
   "metadata": {
    "collapsed": false,
    "ExecuteTime": {
     "end_time": "2024-07-06T17:09:17.896180057Z",
     "start_time": "2024-07-06T17:09:17.819251523Z"
    }
   },
   "id": "e24b676b8de5e525"
  },
  {
   "cell_type": "code",
   "execution_count": 15,
   "outputs": [
    {
     "data": {
      "text/plain": "(torch.Size([224, 224, 3]), 3)"
     },
     "execution_count": 15,
     "metadata": {},
     "output_type": "execute_result"
    }
   ],
   "source": [
    "random_image_size_tensor = torch.rand(224, 224, 3)\n",
    "random_image_size_tensor.shape, random_image_size_tensor.ndim"
   ],
   "metadata": {
    "collapsed": false,
    "ExecuteTime": {
     "end_time": "2024-07-06T17:09:17.896626849Z",
     "start_time": "2024-07-06T17:09:17.823826699Z"
    }
   },
   "id": "a0774b255a716070"
  },
  {
   "cell_type": "code",
   "execution_count": 16,
   "outputs": [
    {
     "data": {
      "text/plain": "(tensor([[0., 0., 0., 0.],\n         [0., 0., 0., 0.],\n         [0., 0., 0., 0.]]),\n torch.float32)"
     },
     "execution_count": 16,
     "metadata": {},
     "output_type": "execute_result"
    }
   ],
   "source": [
    "zeros = torch.zeros(3, 4)\n",
    "zeros, zeros.dtype"
   ],
   "metadata": {
    "collapsed": false,
    "ExecuteTime": {
     "end_time": "2024-07-06T17:09:17.897013781Z",
     "start_time": "2024-07-06T17:09:17.828264956Z"
    }
   },
   "id": "a7c528199e6a023a"
  },
  {
   "cell_type": "code",
   "execution_count": 17,
   "outputs": [
    {
     "data": {
      "text/plain": "(tensor([[1., 1., 1., 1.],\n         [1., 1., 1., 1.],\n         [1., 1., 1., 1.]]),\n torch.float32)"
     },
     "execution_count": 17,
     "metadata": {},
     "output_type": "execute_result"
    }
   ],
   "source": [
    "ones = torch.ones(3, 4)\n",
    "ones, ones.dtype"
   ],
   "metadata": {
    "collapsed": false,
    "ExecuteTime": {
     "end_time": "2024-07-06T17:09:17.897694142Z",
     "start_time": "2024-07-06T17:09:17.832681976Z"
    }
   },
   "id": "acee4d46d18b0d62"
  },
  {
   "cell_type": "code",
   "execution_count": 18,
   "outputs": [
    {
     "data": {
      "text/plain": "tensor([0, 1, 2, 3, 4, 5, 6, 7, 8, 9])"
     },
     "execution_count": 18,
     "metadata": {},
     "output_type": "execute_result"
    }
   ],
   "source": [
    "zero_to_ten = torch.arange(0, 10, 1)\n",
    "zero_to_ten"
   ],
   "metadata": {
    "collapsed": false,
    "ExecuteTime": {
     "end_time": "2024-07-06T17:09:17.898081175Z",
     "start_time": "2024-07-06T17:09:17.836919963Z"
    }
   },
   "id": "c55b8d985d4b59b6"
  },
  {
   "cell_type": "code",
   "execution_count": 19,
   "outputs": [
    {
     "data": {
      "text/plain": "tensor([0, 0, 0, 0, 0, 0, 0, 0, 0, 0])"
     },
     "execution_count": 19,
     "metadata": {},
     "output_type": "execute_result"
    }
   ],
   "source": [
    "ten_zeros = torch.zeros_like(zero_to_ten)\n",
    "ten_zeros"
   ],
   "metadata": {
    "collapsed": false,
    "ExecuteTime": {
     "end_time": "2024-07-06T17:09:17.898643077Z",
     "start_time": "2024-07-06T17:09:17.840365631Z"
    }
   },
   "id": "ef29ab187e3410c6"
  },
  {
   "cell_type": "code",
   "execution_count": 20,
   "outputs": [
    {
     "data": {
      "text/plain": "(tensor([3., 6., 9.]), torch.float32, device(type='cpu'))"
     },
     "execution_count": 20,
     "metadata": {},
     "output_type": "execute_result"
    }
   ],
   "source": [
    "float_32_tensor = torch.tensor([3.0, 6.0, 9.0],\n",
    "                               dtype=None,\n",
    "                               device=None, \n",
    "                               requires_grad=False)\n",
    "float_32_tensor, float_32_tensor.dtype, float_32_tensor.device"
   ],
   "metadata": {
    "collapsed": false,
    "ExecuteTime": {
     "end_time": "2024-07-06T17:09:18.140594922Z",
     "start_time": "2024-07-06T17:09:17.844412270Z"
    }
   },
   "id": "915c498806496c3e"
  },
  {
   "cell_type": "code",
   "execution_count": 21,
   "outputs": [
    {
     "data": {
      "text/plain": "torch.float16"
     },
     "execution_count": 21,
     "metadata": {},
     "output_type": "execute_result"
    }
   ],
   "source": [
    "float_16_tensor = torch.tensor([3.0, 6.0, 9.0], \n",
    "                               dtype=torch.float16)\n",
    "float_16_tensor.dtype"
   ],
   "metadata": {
    "collapsed": false,
    "ExecuteTime": {
     "end_time": "2024-07-06T17:09:18.141291153Z",
     "start_time": "2024-07-06T17:09:17.885325862Z"
    }
   },
   "id": "df965743a02ed2d3"
  },
  {
   "cell_type": "code",
   "execution_count": 22,
   "outputs": [
    {
     "data": {
      "text/plain": "tensor([11, 12, 13])"
     },
     "execution_count": 22,
     "metadata": {},
     "output_type": "execute_result"
    }
   ],
   "source": [
    "tensor = torch.tensor([1, 2, 3])\n",
    "tensor + 10"
   ],
   "metadata": {
    "collapsed": false,
    "ExecuteTime": {
     "end_time": "2024-07-06T17:09:18.141677387Z",
     "start_time": "2024-07-06T17:09:17.885755651Z"
    }
   },
   "id": "1457e2510cae210a"
  },
  {
   "cell_type": "code",
   "execution_count": 23,
   "outputs": [
    {
     "data": {
      "text/plain": "tensor([10, 20, 30])"
     },
     "execution_count": 23,
     "metadata": {},
     "output_type": "execute_result"
    }
   ],
   "source": [
    "tensor * 10"
   ],
   "metadata": {
    "collapsed": false,
    "ExecuteTime": {
     "end_time": "2024-07-06T17:09:18.142002981Z",
     "start_time": "2024-07-06T17:09:17.886064438Z"
    }
   },
   "id": "ad5655e420b66127"
  },
  {
   "cell_type": "code",
   "execution_count": 24,
   "outputs": [
    {
     "data": {
      "text/plain": "tensor([-9, -8, -7])"
     },
     "execution_count": 24,
     "metadata": {},
     "output_type": "execute_result"
    }
   ],
   "source": [
    "tensor = tensor - 10\n",
    "tensor"
   ],
   "metadata": {
    "collapsed": false,
    "ExecuteTime": {
     "end_time": "2024-07-06T17:09:18.142312816Z",
     "start_time": "2024-07-06T17:09:17.886303169Z"
    }
   },
   "id": "28a2650069e45927"
  },
  {
   "cell_type": "code",
   "execution_count": 25,
   "outputs": [
    {
     "data": {
      "text/plain": "tensor([1, 2, 3])"
     },
     "execution_count": 25,
     "metadata": {},
     "output_type": "execute_result"
    }
   ],
   "source": [
    "tensor += 10\n",
    "tensor"
   ],
   "metadata": {
    "collapsed": false,
    "ExecuteTime": {
     "end_time": "2024-07-06T17:09:18.142612733Z",
     "start_time": "2024-07-06T17:09:17.886843317Z"
    }
   },
   "id": "ce39fdf01930a10"
  },
  {
   "cell_type": "code",
   "execution_count": 26,
   "outputs": [
    {
     "data": {
      "text/plain": "tensor([10, 20, 30])"
     },
     "execution_count": 26,
     "metadata": {},
     "output_type": "execute_result"
    }
   ],
   "source": [
    "torch.multiply(tensor, 10)"
   ],
   "metadata": {
    "collapsed": false,
    "ExecuteTime": {
     "end_time": "2024-07-06T17:09:18.142922606Z",
     "start_time": "2024-07-06T17:09:17.887118726Z"
    }
   },
   "id": "a2bd129f5589d6fc"
  },
  {
   "cell_type": "code",
   "execution_count": 27,
   "outputs": [
    {
     "data": {
      "text/plain": "tensor([1, 2, 3])"
     },
     "execution_count": 27,
     "metadata": {},
     "output_type": "execute_result"
    }
   ],
   "source": [
    "tensor"
   ],
   "metadata": {
    "collapsed": false,
    "ExecuteTime": {
     "end_time": "2024-07-06T17:09:18.158969397Z",
     "start_time": "2024-07-06T17:09:17.887366277Z"
    }
   },
   "id": "77bd376f04bfb679"
  },
  {
   "cell_type": "code",
   "execution_count": 28,
   "outputs": [
    {
     "data": {
      "text/plain": "tensor([1, 4, 9])"
     },
     "execution_count": 28,
     "metadata": {},
     "output_type": "execute_result"
    }
   ],
   "source": [
    "tensor * tensor"
   ],
   "metadata": {
    "collapsed": false,
    "ExecuteTime": {
     "end_time": "2024-07-06T17:09:18.159515046Z",
     "start_time": "2024-07-06T17:09:17.887596334Z"
    }
   },
   "id": "8415aecfbf99159e"
  },
  {
   "cell_type": "code",
   "execution_count": 29,
   "outputs": [
    {
     "data": {
      "text/plain": "tensor(14)"
     },
     "execution_count": 29,
     "metadata": {},
     "output_type": "execute_result"
    }
   ],
   "source": [
    "tensor.matmul(tensor)"
   ],
   "metadata": {
    "collapsed": false,
    "ExecuteTime": {
     "end_time": "2024-07-06T17:09:18.159884297Z",
     "start_time": "2024-07-06T17:09:17.888122692Z"
    }
   },
   "id": "1743c8df5496a13d"
  },
  {
   "cell_type": "code",
   "execution_count": 30,
   "outputs": [
    {
     "data": {
      "text/plain": "(tensor([[ 27.,  30.,  33.],\n         [ 61.,  68.,  75.],\n         [ 95., 106., 117.]]),\n tensor([[ 76., 103.],\n         [100., 136.]]))"
     },
     "execution_count": 30,
     "metadata": {},
     "output_type": "execute_result"
    }
   ],
   "source": [
    "tensor_A = torch.tensor([[1, 2],\n",
    "                         [3, 4],\n",
    "                         [5, 6]],\n",
    "                        dtype=torch.float32)\n",
    "tensor_B = torch.tensor([[7, 10], \n",
    "                         [8, 11],\n",
    "                         [9, 12]],\n",
    "                        dtype=torch.float32)\n",
    "# torch.matmul(tensor_A, tensor_B) # matrix shape will not match\n",
    "\n",
    "output = torch.matmul(tensor_A, tensor_B.T)\n",
    "output2 = torch.mm(tensor_A.T, tensor_B)\n",
    "output, output2"
   ],
   "metadata": {
    "collapsed": false,
    "ExecuteTime": {
     "end_time": "2024-07-06T17:09:18.205706869Z",
     "start_time": "2024-07-06T17:09:17.893263482Z"
    }
   },
   "id": "e5275d23e8642c47"
  },
  {
   "cell_type": "code",
   "execution_count": 31,
   "outputs": [
    {
     "data": {
      "text/plain": "(torch.Size([3, 2]),\n torch.Size([3, 6]),\n tensor([[2.2368, 1.2292, 0.4714, 0.3864, 0.1309, 0.9838],\n         [4.4919, 2.1970, 0.4469, 0.5285, 0.3401, 2.4777],\n         [6.7469, 3.1648, 0.4224, 0.6705, 0.5493, 3.9716]],\n        grad_fn=<AddmmBackward0>))"
     },
     "execution_count": 31,
     "metadata": {},
     "output_type": "execute_result"
    }
   ],
   "source": [
    "torch.manual_seed(42)\n",
    "\n",
    "linear = torch.nn.Linear(in_features=2, out_features=6)\n",
    "\n",
    "x = tensor_A\n",
    "output = linear(x)\n",
    "x.shape, output.shape, output"
   ],
   "metadata": {
    "collapsed": false,
    "ExecuteTime": {
     "end_time": "2024-07-06T17:09:18.206446427Z",
     "start_time": "2024-07-06T17:09:17.937124993Z"
    }
   },
   "id": "34ff8a17a047cddf"
  },
  {
   "cell_type": "code",
   "execution_count": 32,
   "outputs": [
    {
     "data": {
      "text/plain": "tensor([ 0, 10, 20, 30, 40, 50, 60, 70, 80, 90])"
     },
     "execution_count": 32,
     "metadata": {},
     "output_type": "execute_result"
    }
   ],
   "source": [
    "x = torch.arange(0, 100, 10)\n",
    "x"
   ],
   "metadata": {
    "collapsed": false,
    "ExecuteTime": {
     "end_time": "2024-07-06T17:09:18.206831323Z",
     "start_time": "2024-07-06T17:09:17.937496689Z"
    }
   },
   "id": "4b4496720e137258"
  },
  {
   "cell_type": "code",
   "execution_count": 33,
   "outputs": [
    {
     "data": {
      "text/plain": "tensor(0)"
     },
     "execution_count": 33,
     "metadata": {},
     "output_type": "execute_result"
    }
   ],
   "source": [
    "x.min()"
   ],
   "metadata": {
    "collapsed": false,
    "ExecuteTime": {
     "end_time": "2024-07-06T17:09:18.207166488Z",
     "start_time": "2024-07-06T17:09:17.937721929Z"
    }
   },
   "id": "8fbddeddcca4fc1b"
  },
  {
   "cell_type": "code",
   "execution_count": 34,
   "outputs": [
    {
     "data": {
      "text/plain": "tensor(90)"
     },
     "execution_count": 34,
     "metadata": {},
     "output_type": "execute_result"
    }
   ],
   "source": [
    "x.max()"
   ],
   "metadata": {
    "collapsed": false,
    "ExecuteTime": {
     "end_time": "2024-07-06T17:09:18.207495315Z",
     "start_time": "2024-07-06T17:09:17.937941147Z"
    }
   },
   "id": "d3aab7e323350d4c"
  },
  {
   "cell_type": "code",
   "execution_count": 35,
   "outputs": [
    {
     "data": {
      "text/plain": "tensor(45.)"
     },
     "execution_count": 35,
     "metadata": {},
     "output_type": "execute_result"
    }
   ],
   "source": [
    "x.type(torch.float32).mean()"
   ],
   "metadata": {
    "collapsed": false,
    "ExecuteTime": {
     "end_time": "2024-07-06T17:09:18.207847153Z",
     "start_time": "2024-07-06T17:09:17.938449493Z"
    }
   },
   "id": "4199d47f92729cd9"
  },
  {
   "cell_type": "code",
   "execution_count": 36,
   "outputs": [
    {
     "data": {
      "text/plain": "tensor(450)"
     },
     "execution_count": 36,
     "metadata": {},
     "output_type": "execute_result"
    }
   ],
   "source": [
    "x.sum()"
   ],
   "metadata": {
    "collapsed": false,
    "ExecuteTime": {
     "end_time": "2024-07-06T17:09:18.208151817Z",
     "start_time": "2024-07-06T17:09:17.938669452Z"
    }
   },
   "id": "4883e208212d4d31"
  },
  {
   "cell_type": "code",
   "execution_count": 37,
   "outputs": [
    {
     "data": {
      "text/plain": "(tensor(90), tensor(0), tensor(45.), tensor(450))"
     },
     "execution_count": 37,
     "metadata": {},
     "output_type": "execute_result"
    }
   ],
   "source": [
    "torch.max(x), torch.min(x), torch.mean(x.type(torch.float32)), torch.sum(x)"
   ],
   "metadata": {
    "collapsed": false,
    "ExecuteTime": {
     "end_time": "2024-07-06T17:09:18.208459503Z",
     "start_time": "2024-07-06T17:09:17.938906658Z"
    }
   },
   "id": "73b424b6f0b1c20f"
  },
  {
   "cell_type": "code",
   "execution_count": 38,
   "outputs": [
    {
     "data": {
      "text/plain": "tensor([10, 20, 30, 40, 50, 60, 70, 80, 90])"
     },
     "execution_count": 38,
     "metadata": {},
     "output_type": "execute_result"
    }
   ],
   "source": [
    "tensor = torch.arange(10, 100, 10)\n",
    "tensor"
   ],
   "metadata": {
    "collapsed": false,
    "ExecuteTime": {
     "end_time": "2024-07-06T17:09:18.208788606Z",
     "start_time": "2024-07-06T17:09:17.939127530Z"
    }
   },
   "id": "8c76ab640e68b0d2"
  },
  {
   "cell_type": "code",
   "execution_count": 39,
   "outputs": [
    {
     "data": {
      "text/plain": "(tensor(8), tensor(0))"
     },
     "execution_count": 39,
     "metadata": {},
     "output_type": "execute_result"
    }
   ],
   "source": [
    "tensor.argmax(), tensor.argmin()"
   ],
   "metadata": {
    "collapsed": false,
    "ExecuteTime": {
     "end_time": "2024-07-06T17:09:18.209495247Z",
     "start_time": "2024-07-06T17:09:17.939455578Z"
    }
   },
   "id": "2c66e4dbb05be45e"
  },
  {
   "cell_type": "code",
   "execution_count": 40,
   "outputs": [
    {
     "data": {
      "text/plain": "torch.float32"
     },
     "execution_count": 40,
     "metadata": {},
     "output_type": "execute_result"
    }
   ],
   "source": [
    "tensor = torch.arange(10., 100., 10.)\n",
    "tensor.dtype"
   ],
   "metadata": {
    "collapsed": false,
    "ExecuteTime": {
     "end_time": "2024-07-06T17:09:18.209872484Z",
     "start_time": "2024-07-06T17:09:17.942626126Z"
    }
   },
   "id": "60e2632c6e565496"
  },
  {
   "cell_type": "code",
   "execution_count": 41,
   "outputs": [
    {
     "data": {
      "text/plain": "tensor([10., 20., 30., 40., 50., 60., 70., 80., 90.], dtype=torch.float16)"
     },
     "execution_count": 41,
     "metadata": {},
     "output_type": "execute_result"
    }
   ],
   "source": [
    "tensor_float16 = tensor.type(torch.float16)\n",
    "tensor_float16"
   ],
   "metadata": {
    "collapsed": false,
    "ExecuteTime": {
     "end_time": "2024-07-06T17:09:18.210540418Z",
     "start_time": "2024-07-06T17:09:17.949353343Z"
    }
   },
   "id": "21a21adcce0b5548"
  },
  {
   "cell_type": "code",
   "execution_count": 43,
   "outputs": [
    {
     "data": {
      "text/plain": "tensor([10, 20, 30, 40, 50, 60, 70, 80, 90], dtype=torch.int8)"
     },
     "execution_count": 43,
     "metadata": {},
     "output_type": "execute_result"
    }
   ],
   "source": [
    "tensor_int8 = tensor.type(torch.int8)\n",
    "tensor_int8"
   ],
   "metadata": {
    "collapsed": false,
    "ExecuteTime": {
     "end_time": "2024-07-06T17:09:24.229828473Z",
     "start_time": "2024-07-06T17:09:24.155696467Z"
    }
   },
   "id": "df062ea751b929d9"
  },
  {
   "cell_type": "code",
   "execution_count": 44,
   "outputs": [
    {
     "data": {
      "text/plain": "(tensor([1., 2., 3., 4., 5., 6., 7.]), torch.Size([7]))"
     },
     "execution_count": 44,
     "metadata": {},
     "output_type": "execute_result"
    }
   ],
   "source": [
    "x = torch.arange(1., 8.)\n",
    "x, x.shape"
   ],
   "metadata": {
    "collapsed": false,
    "ExecuteTime": {
     "end_time": "2024-07-06T17:10:10.496750460Z",
     "start_time": "2024-07-06T17:10:10.449118299Z"
    }
   },
   "id": "43ccab42bfeda159"
  },
  {
   "cell_type": "code",
   "execution_count": 45,
   "outputs": [
    {
     "data": {
      "text/plain": "(tensor([[1., 2., 3., 4., 5., 6., 7.]]), torch.Size([1, 7]))"
     },
     "execution_count": 45,
     "metadata": {},
     "output_type": "execute_result"
    }
   ],
   "source": [
    "x_reshaped = x.reshape(1, 7)\n",
    "x_reshaped, x_reshaped.shape"
   ],
   "metadata": {
    "collapsed": false,
    "ExecuteTime": {
     "end_time": "2024-07-06T17:10:43.295885739Z",
     "start_time": "2024-07-06T17:10:43.270492969Z"
    }
   },
   "id": "bb17d6192163e119"
  },
  {
   "cell_type": "code",
   "execution_count": 46,
   "outputs": [
    {
     "data": {
      "text/plain": "(tensor([[1., 2., 3., 4., 5., 6., 7.]]), torch.Size([1, 7]))"
     },
     "execution_count": 46,
     "metadata": {},
     "output_type": "execute_result"
    }
   ],
   "source": [
    "z = x.view(1, 7)\n",
    "z, z.shape"
   ],
   "metadata": {
    "collapsed": false,
    "ExecuteTime": {
     "end_time": "2024-07-06T17:11:05.498694148Z",
     "start_time": "2024-07-06T17:11:05.440105707Z"
    }
   },
   "id": "566003b47b62ae4e"
  },
  {
   "cell_type": "code",
   "execution_count": 47,
   "outputs": [
    {
     "data": {
      "text/plain": "(tensor([[5., 2., 3., 4., 5., 6., 7.]]), tensor([5., 2., 3., 4., 5., 6., 7.]))"
     },
     "execution_count": 47,
     "metadata": {},
     "output_type": "execute_result"
    }
   ],
   "source": [
    "z[:, 0] = 5\n",
    "z, x"
   ],
   "metadata": {
    "collapsed": false,
    "ExecuteTime": {
     "end_time": "2024-07-06T17:12:06.158977539Z",
     "start_time": "2024-07-06T17:12:06.110923045Z"
    }
   },
   "id": "35e0ceb2b311532b"
  },
  {
   "cell_type": "code",
   "execution_count": 53,
   "outputs": [
    {
     "data": {
      "text/plain": "tensor([[5., 2., 3., 4., 5., 6., 7.],\n        [5., 2., 3., 4., 5., 6., 7.],\n        [5., 2., 3., 4., 5., 6., 7.],\n        [5., 2., 3., 4., 5., 6., 7.]])"
     },
     "execution_count": 53,
     "metadata": {},
     "output_type": "execute_result"
    }
   ],
   "source": [
    "x_stacked = torch.stack([x, x, x, x], dim=0)\n",
    "x_stacked"
   ],
   "metadata": {
    "collapsed": false,
    "ExecuteTime": {
     "end_time": "2024-07-06T17:13:27.256090595Z",
     "start_time": "2024-07-06T17:13:27.244362131Z"
    }
   },
   "id": "14fe458f6cd502e6"
  },
  {
   "cell_type": "code",
   "execution_count": 54,
   "outputs": [
    {
     "data": {
      "text/plain": "tensor([5., 2., 3., 4., 5., 6., 7.])"
     },
     "execution_count": 54,
     "metadata": {},
     "output_type": "execute_result"
    }
   ],
   "source": [
    "x_squeezed = x_reshaped.squeeze()\n",
    "x_squeezed"
   ],
   "metadata": {
    "collapsed": false,
    "ExecuteTime": {
     "end_time": "2024-07-06T17:14:19.175241503Z",
     "start_time": "2024-07-06T17:14:19.131941790Z"
    }
   },
   "id": "346f25a9fce65f1e"
  },
  {
   "cell_type": "code",
   "execution_count": 56,
   "outputs": [
    {
     "data": {
      "text/plain": "tensor([[5., 2., 3., 4., 5., 6., 7.]])"
     },
     "execution_count": 56,
     "metadata": {},
     "output_type": "execute_result"
    }
   ],
   "source": [
    "x_unsqeezed = x_squeezed.unsqueeze(dim=0)\n",
    "x_unsqeezed"
   ],
   "metadata": {
    "collapsed": false,
    "ExecuteTime": {
     "end_time": "2024-07-06T17:14:53.041400884Z",
     "start_time": "2024-07-06T17:14:52.993513321Z"
    }
   },
   "id": "69bf12c0e90608a0"
  },
  {
   "cell_type": "code",
   "execution_count": 57,
   "outputs": [
    {
     "data": {
      "text/plain": "(torch.Size([224, 224, 3]), torch.Size([3, 224, 224]))"
     },
     "execution_count": 57,
     "metadata": {},
     "output_type": "execute_result"
    }
   ],
   "source": [
    "x_original = torch.rand(size=(224, 224, 3))\n",
    "x_permuted = x_original.permute(2, 0, 1)\n",
    "x_original.shape, x_permuted.shape"
   ],
   "metadata": {
    "collapsed": false,
    "ExecuteTime": {
     "end_time": "2024-07-06T17:16:11.165542170Z",
     "start_time": "2024-07-06T17:16:11.113474644Z"
    }
   },
   "id": "be596e8f87822f3"
  },
  {
   "cell_type": "code",
   "execution_count": 59,
   "outputs": [
    {
     "data": {
      "text/plain": "(tensor([[[1, 2, 3],\n          [4, 5, 6],\n          [7, 8, 9]]]),\n torch.Size([1, 3, 3]))"
     },
     "execution_count": 59,
     "metadata": {},
     "output_type": "execute_result"
    }
   ],
   "source": [
    "x = torch.arange(1, 10).reshape(1, 3, 3)\n",
    "x, x.shape"
   ],
   "metadata": {
    "collapsed": false,
    "ExecuteTime": {
     "end_time": "2024-07-06T17:17:03.282301442Z",
     "start_time": "2024-07-06T17:17:03.261639866Z"
    }
   },
   "id": "b1123aba4eb4b307"
  },
  {
   "cell_type": "code",
   "execution_count": 60,
   "outputs": [
    {
     "data": {
      "text/plain": "(tensor([[1, 2, 3],\n         [4, 5, 6],\n         [7, 8, 9]]),\n tensor([1, 2, 3]),\n tensor(1))"
     },
     "execution_count": 60,
     "metadata": {},
     "output_type": "execute_result"
    }
   ],
   "source": [
    "x[0], x[0][0], x[0][0][0]"
   ],
   "metadata": {
    "collapsed": false,
    "ExecuteTime": {
     "end_time": "2024-07-06T17:17:19.604693539Z",
     "start_time": "2024-07-06T17:17:19.580894682Z"
    }
   },
   "id": "d7a8a069b5aa488f"
  },
  {
   "cell_type": "code",
   "execution_count": 61,
   "outputs": [
    {
     "data": {
      "text/plain": "(tensor([[1, 2, 3]]), tensor([[2, 5, 8]]), tensor([5]))"
     },
     "execution_count": 61,
     "metadata": {},
     "output_type": "execute_result"
    }
   ],
   "source": [
    "x[:, 0], x[:, :, 1], x[:, 1, 1]"
   ],
   "metadata": {
    "collapsed": false,
    "ExecuteTime": {
     "end_time": "2024-07-06T17:17:52.001242335Z",
     "start_time": "2024-07-06T17:17:51.953167998Z"
    }
   },
   "id": "e528f6052f560e90"
  },
  {
   "cell_type": "code",
   "execution_count": 62,
   "outputs": [
    {
     "data": {
      "text/plain": "tensor([1, 2, 3])"
     },
     "execution_count": 62,
     "metadata": {},
     "output_type": "execute_result"
    }
   ],
   "source": [
    "x[0, 0, :]"
   ],
   "metadata": {
    "collapsed": false,
    "ExecuteTime": {
     "end_time": "2024-07-06T17:18:02.025115Z",
     "start_time": "2024-07-06T17:18:02.001035362Z"
    }
   },
   "id": "173ea613fb317fa8"
  },
  {
   "cell_type": "code",
   "execution_count": 63,
   "outputs": [
    {
     "data": {
      "text/plain": "(array([1., 2., 3., 4., 5., 6., 7.]),\n tensor([1., 2., 3., 4., 5., 6., 7.], dtype=torch.float64))"
     },
     "execution_count": 63,
     "metadata": {},
     "output_type": "execute_result"
    }
   ],
   "source": [
    "import numpy as np\n",
    "array = np.arange(1.0, 8.0)\n",
    "tensor = torch.from_numpy(array)\n",
    "array, tensor"
   ],
   "metadata": {
    "collapsed": false,
    "ExecuteTime": {
     "end_time": "2024-07-06T17:20:18.429827097Z",
     "start_time": "2024-07-06T17:20:18.402005459Z"
    }
   },
   "id": "4c0ee372ec178b35"
  },
  {
   "cell_type": "code",
   "execution_count": 64,
   "outputs": [
    {
     "data": {
      "text/plain": "(tensor([1., 1., 1., 1., 1., 1., 1.]),\n array([1., 1., 1., 1., 1., 1., 1.], dtype=float32))"
     },
     "execution_count": 64,
     "metadata": {},
     "output_type": "execute_result"
    }
   ],
   "source": [
    "tensor = torch.ones(7)\n",
    "numpy_tensor = tensor.numpy()\n",
    "tensor, numpy_tensor"
   ],
   "metadata": {
    "collapsed": false,
    "ExecuteTime": {
     "end_time": "2024-07-06T17:21:37.503076192Z",
     "start_time": "2024-07-06T17:21:37.476622449Z"
    }
   },
   "id": "b59c3bec7ff3905a"
  },
  {
   "cell_type": "code",
   "execution_count": 65,
   "outputs": [
    {
     "data": {
      "text/plain": "tensor([[False, False, False, False],\n        [False, False, False, False],\n        [False, False, False, False]])"
     },
     "execution_count": 65,
     "metadata": {},
     "output_type": "execute_result"
    }
   ],
   "source": [
    "random_tensor_A = torch.rand(3, 4)\n",
    "random_tensor_B = torch.rand(3, 4)\n",
    "\n",
    "random_tensor_A == random_tensor_B"
   ],
   "metadata": {
    "collapsed": false,
    "ExecuteTime": {
     "end_time": "2024-07-06T17:24:13.941805293Z",
     "start_time": "2024-07-06T17:24:13.897823294Z"
    }
   },
   "id": "b281c5daded03e7a"
  },
  {
   "cell_type": "code",
   "execution_count": 68,
   "outputs": [
    {
     "data": {
      "text/plain": "tensor([[True, True, True, True],\n        [True, True, True, True],\n        [True, True, True, True]])"
     },
     "execution_count": 68,
     "metadata": {},
     "output_type": "execute_result"
    }
   ],
   "source": [
    "import random\n",
    "RANDOM_SEED = 42\n",
    "torch.manual_seed(seed=RANDOM_SEED)\n",
    "random_tensor_C = torch.rand(3, 4)\n",
    "\n",
    "torch.random.manual_seed(seed=RANDOM_SEED)\n",
    "random_tensor_D = torch.rand(3, 4)\n",
    "\n",
    "random_tensor_C == random_tensor_D"
   ],
   "metadata": {
    "collapsed": false,
    "ExecuteTime": {
     "end_time": "2024-07-06T17:26:13.651131536Z",
     "start_time": "2024-07-06T17:26:13.639175524Z"
    }
   },
   "id": "7b0b4365b72ca304"
  },
  {
   "cell_type": "markdown",
   "source": [
    "## Excerices"
   ],
   "metadata": {
    "collapsed": false
   },
   "id": "72cc0073cccad706"
  },
  {
   "cell_type": "code",
   "execution_count": 70,
   "outputs": [
    {
     "data": {
      "text/plain": "tensor([[0.8694, 0.5677, 0.7411, 0.4294, 0.8854, 0.5739, 0.2666],\n        [0.6274, 0.2696, 0.4414, 0.2969, 0.8317, 0.1053, 0.2695],\n        [0.3588, 0.1994, 0.5472, 0.0062, 0.9516, 0.0753, 0.8860],\n        [0.5832, 0.3376, 0.8090, 0.5779, 0.9040, 0.5547, 0.3423],\n        [0.6343, 0.3644, 0.7104, 0.9464, 0.7890, 0.2814, 0.7886],\n        [0.5895, 0.7539, 0.1952, 0.0050, 0.3068, 0.1165, 0.9103],\n        [0.6440, 0.7071, 0.6581, 0.4913, 0.8913, 0.1447, 0.5315]])"
     },
     "execution_count": 70,
     "metadata": {},
     "output_type": "execute_result"
    }
   ],
   "source": [
    "x = torch.rand(7, 7)\n",
    "x"
   ],
   "metadata": {
    "collapsed": false,
    "ExecuteTime": {
     "end_time": "2024-07-06T17:32:16.712945639Z",
     "start_time": "2024-07-06T17:32:16.677858183Z"
    }
   },
   "id": "4ab36f158290e6d5"
  },
  {
   "cell_type": "code",
   "execution_count": 71,
   "outputs": [
    {
     "data": {
      "text/plain": "tensor([[1.9625],\n        [1.0950],\n        [0.9967],\n        [1.8910],\n        [1.9205],\n        [1.0674],\n        [1.6949]])"
     },
     "execution_count": 71,
     "metadata": {},
     "output_type": "execute_result"
    }
   ],
   "source": [
    "y = torch.rand(1, 7)\n",
    "torch.matmul(x, y.T)"
   ],
   "metadata": {
    "collapsed": false,
    "ExecuteTime": {
     "end_time": "2024-07-06T17:33:02.972303211Z",
     "start_time": "2024-07-06T17:33:02.912962961Z"
    }
   },
   "id": "6c74fdeb5b7c9f72"
  },
  {
   "cell_type": "code",
   "execution_count": 73,
   "outputs": [
    {
     "data": {
      "text/plain": "(tensor([[0.4963, 0.7682, 0.0885, 0.1320, 0.3074, 0.6341, 0.4901],\n         [0.8964, 0.4556, 0.6323, 0.3489, 0.4017, 0.0223, 0.1689],\n         [0.2939, 0.5185, 0.6977, 0.8000, 0.1610, 0.2823, 0.6816],\n         [0.9152, 0.3971, 0.8742, 0.4194, 0.5529, 0.9527, 0.0362],\n         [0.1852, 0.3734, 0.3051, 0.9320, 0.1759, 0.2698, 0.1507],\n         [0.0317, 0.2081, 0.9298, 0.7231, 0.7423, 0.5263, 0.2437],\n         [0.5846, 0.0332, 0.1387, 0.2422, 0.8155, 0.7932, 0.2783]]),\n tensor([[0.4963, 0.7682, 0.0885, 0.1320, 0.3074, 0.6341, 0.4901]]),\n tensor([[1.5985],\n         [1.1173],\n         [1.2741],\n         [1.6838],\n         [0.8279],\n         [1.0347],\n         [1.2498]]))"
     },
     "execution_count": 73,
     "metadata": {},
     "output_type": "execute_result"
    }
   ],
   "source": [
    "RANDOM_SEED = 0\n",
    "torch.manual_seed(seed=RANDOM_SEED)\n",
    "x = torch.rand(7, 7)\n",
    "\n",
    "torch.random.manual_seed(seed=RANDOM_SEED)\n",
    "y = torch.rand(1, 7)\n",
    "\n",
    "x, y, torch.mm(x, y.T)"
   ],
   "metadata": {
    "collapsed": false,
    "ExecuteTime": {
     "end_time": "2024-07-06T17:34:47.474095815Z",
     "start_time": "2024-07-06T17:34:47.411445438Z"
    }
   },
   "id": "b70525ef7a0da8be"
  },
  {
   "cell_type": "code",
   "execution_count": 74,
   "outputs": [
    {
     "data": {
      "text/plain": "(tensor(0.9527), tensor(0.0223))"
     },
     "execution_count": 74,
     "metadata": {},
     "output_type": "execute_result"
    }
   ],
   "source": [
    "x.max(), x.min()"
   ],
   "metadata": {
    "collapsed": false,
    "ExecuteTime": {
     "end_time": "2024-07-06T17:37:08.495208569Z",
     "start_time": "2024-07-06T17:37:08.437870396Z"
    }
   },
   "id": "700845441fba194e"
  },
  {
   "cell_type": "code",
   "execution_count": 75,
   "outputs": [
    {
     "data": {
      "text/plain": "(tensor(26), tensor(12))"
     },
     "execution_count": 75,
     "metadata": {},
     "output_type": "execute_result"
    }
   ],
   "source": [
    "x.argmax(), x.argmin()"
   ],
   "metadata": {
    "collapsed": false,
    "ExecuteTime": {
     "end_time": "2024-07-06T17:37:39.998084087Z",
     "start_time": "2024-07-06T17:37:39.960812737Z"
    }
   },
   "id": "30b03ab554556a28"
  }
 ],
 "metadata": {
  "kernelspec": {
   "display_name": "Python 3",
   "language": "python",
   "name": "python3"
  },
  "language_info": {
   "codemirror_mode": {
    "name": "ipython",
    "version": 2
   },
   "file_extension": ".py",
   "mimetype": "text/x-python",
   "name": "python",
   "nbconvert_exporter": "python",
   "pygments_lexer": "ipython2",
   "version": "2.7.6"
  }
 },
 "nbformat": 4,
 "nbformat_minor": 5
}
